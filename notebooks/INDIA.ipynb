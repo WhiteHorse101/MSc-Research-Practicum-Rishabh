{
 "cells": [
  {
   "cell_type": "code",
   "execution_count": 2,
   "id": "b1d33628",
   "metadata": {},
   "outputs": [],
   "source": [
    "import pandas as pd\n",
    "import pandas as pd\n",
    "import numpy as np\n",
    "from sklearn.preprocessing import MinMaxScaler\n",
    "import matplotlib.pyplot as plt\n",
    "import tensorflow as tf\n",
    "from tensorflow.keras.models import Sequential\n",
    "from tensorflow.keras.layers import Conv1D, MaxPooling1D, LSTM, Dropout, Dense\n",
    "from tensorflow.keras.callbacks import EarlyStopping\n",
    "from sklearn.metrics import mean_squared_error, mean_absolute_error"
   ]
  },
  {
   "cell_type": "code",
   "execution_count": null,
   "id": "2f11c066",
   "metadata": {},
   "outputs": [],
   "source": [
    "# Load enriched data (already cleaned and feature engineered)\n",
    "df = pd.read_csv('data/cleaned/Cleaned_INDIA.csv', parse_dates=['Date'])\n",
    "df.set_index('Date', inplace=True)\n",
    "\n",
    "# Define feature columns\n",
    "features = ['Close', 'MA_5', 'MA_20', 'Vol_10', 'RSI_14', 'MACD', 'Signal']\n",
    "\n",
    "# Drop NaNs and prepare data\n",
    "df.dropna(inplace=True)\n",
    "X_raw = df[features].copy()\n",
    "y_raw = df['Target'].copy()"
   ]
  },
  {
   "cell_type": "code",
   "execution_count": 4,
   "id": "f1d56a57",
   "metadata": {},
   "outputs": [],
   "source": [
    "X_scaler = MinMaxScaler()\n",
    "X_scaled = X_scaler.fit_transform(X_raw)\n",
    "\n",
    "y_scaler = MinMaxScaler()\n",
    "y_scaled = y_scaler.fit_transform(y_raw.values.reshape(-1, 1))"
   ]
  },
  {
   "cell_type": "code",
   "execution_count": 5,
   "id": "be6647ee",
   "metadata": {},
   "outputs": [],
   "source": [
    "def create_windows(X, y, window_size=60):\n",
    "    Xs, ys = [], []\n",
    "    for i in range(len(X) - window_size):\n",
    "        Xs.append(X[i:i+window_size])\n",
    "        ys.append(y[i+window_size])\n",
    "    return np.array(Xs), np.array(ys)\n",
    "\n",
    "X_tensor, y_tensor = create_windows(X_scaled, y_scaled.flatten())"
   ]
  },
  {
   "cell_type": "code",
   "execution_count": 6,
   "id": "e1fbe3b6",
   "metadata": {},
   "outputs": [],
   "source": [
    "def split_data(X, y, train_ratio=0.8):\n",
    "    split = int(len(X) * train_ratio)\n",
    "    return X[:split], X[split:], y[:split], y[split:]\n",
    "\n",
    "X_train, X_test, y_train, y_test = split_data(X_tensor, y_tensor)"
   ]
  },
  {
   "cell_type": "code",
   "execution_count": 7,
   "id": "0563cd08",
   "metadata": {},
   "outputs": [
    {
     "name": "stdout",
     "output_type": "stream",
     "text": [
      "Epoch 1/100\n",
      "36/36 [==============================] - 1s 10ms/step - loss: 0.0559 - mae: 0.1623 - val_loss: 0.0017 - val_mae: 0.0337\n",
      "Epoch 2/100\n",
      "36/36 [==============================] - 0s 11ms/step - loss: 0.0041 - mae: 0.0497 - val_loss: 0.0013 - val_mae: 0.0291\n",
      "Epoch 3/100\n",
      "36/36 [==============================] - 0s 8ms/step - loss: 0.0026 - mae: 0.0394 - val_loss: 0.0040 - val_mae: 0.0571\n",
      "Epoch 4/100\n",
      "36/36 [==============================] - 0s 7ms/step - loss: 0.0023 - mae: 0.0369 - val_loss: 0.0036 - val_mae: 0.0537\n",
      "Epoch 5/100\n",
      "36/36 [==============================] - 0s 7ms/step - loss: 0.0023 - mae: 0.0375 - val_loss: 0.0030 - val_mae: 0.0483\n",
      "Epoch 6/100\n",
      "36/36 [==============================] - 0s 7ms/step - loss: 0.0021 - mae: 0.0357 - val_loss: 0.0031 - val_mae: 0.0484\n",
      "Epoch 7/100\n",
      "36/36 [==============================] - 0s 6ms/step - loss: 0.0019 - mae: 0.0341 - val_loss: 0.0033 - val_mae: 0.0507\n",
      "Epoch 8/100\n",
      "36/36 [==============================] - 0s 7ms/step - loss: 0.0016 - mae: 0.0317 - val_loss: 0.0010 - val_mae: 0.0255\n",
      "Epoch 9/100\n",
      "36/36 [==============================] - 0s 6ms/step - loss: 0.0015 - mae: 0.0300 - val_loss: 0.0022 - val_mae: 0.0406\n",
      "Epoch 10/100\n",
      "36/36 [==============================] - 0s 6ms/step - loss: 0.0018 - mae: 0.0324 - val_loss: 6.9994e-04 - val_mae: 0.0219\n",
      "Epoch 11/100\n",
      "36/36 [==============================] - 0s 6ms/step - loss: 0.0016 - mae: 0.0313 - val_loss: 0.0014 - val_mae: 0.0311\n",
      "Epoch 12/100\n",
      "36/36 [==============================] - 0s 6ms/step - loss: 0.0016 - mae: 0.0310 - val_loss: 0.0016 - val_mae: 0.0330\n",
      "Epoch 13/100\n",
      "36/36 [==============================] - 0s 6ms/step - loss: 0.0015 - mae: 0.0300 - val_loss: 0.0026 - val_mae: 0.0450\n",
      "Epoch 14/100\n",
      "36/36 [==============================] - 0s 6ms/step - loss: 0.0017 - mae: 0.0321 - val_loss: 6.9741e-04 - val_mae: 0.0218\n",
      "Epoch 15/100\n",
      "36/36 [==============================] - 0s 6ms/step - loss: 0.0016 - mae: 0.0312 - val_loss: 0.0017 - val_mae: 0.0343\n",
      "Epoch 16/100\n",
      "36/36 [==============================] - 0s 6ms/step - loss: 0.0014 - mae: 0.0286 - val_loss: 0.0012 - val_mae: 0.0286\n",
      "Epoch 17/100\n",
      "36/36 [==============================] - 0s 6ms/step - loss: 0.0015 - mae: 0.0295 - val_loss: 6.4115e-04 - val_mae: 0.0210\n",
      "Epoch 18/100\n",
      "36/36 [==============================] - 0s 6ms/step - loss: 0.0014 - mae: 0.0290 - val_loss: 6.6767e-04 - val_mae: 0.0214\n",
      "Epoch 19/100\n",
      "36/36 [==============================] - 0s 6ms/step - loss: 0.0015 - mae: 0.0296 - val_loss: 0.0011 - val_mae: 0.0266\n",
      "Epoch 20/100\n",
      "36/36 [==============================] - 0s 6ms/step - loss: 0.0013 - mae: 0.0277 - val_loss: 7.4797e-04 - val_mae: 0.0222\n",
      "Epoch 21/100\n",
      "36/36 [==============================] - 0s 6ms/step - loss: 0.0013 - mae: 0.0283 - val_loss: 0.0019 - val_mae: 0.0369\n",
      "Epoch 22/100\n",
      "36/36 [==============================] - 0s 7ms/step - loss: 0.0015 - mae: 0.0297 - val_loss: 0.0015 - val_mae: 0.0324\n",
      "Epoch 23/100\n",
      "36/36 [==============================] - 0s 6ms/step - loss: 0.0014 - mae: 0.0293 - val_loss: 6.6115e-04 - val_mae: 0.0213\n",
      "Epoch 24/100\n",
      "36/36 [==============================] - 0s 6ms/step - loss: 0.0012 - mae: 0.0273 - val_loss: 7.8137e-04 - val_mae: 0.0223\n",
      "Epoch 25/100\n",
      "36/36 [==============================] - 0s 6ms/step - loss: 0.0013 - mae: 0.0273 - val_loss: 0.0011 - val_mae: 0.0258\n",
      "Epoch 26/100\n",
      "36/36 [==============================] - 0s 6ms/step - loss: 0.0013 - mae: 0.0275 - val_loss: 0.0016 - val_mae: 0.0335\n",
      "Epoch 27/100\n",
      "36/36 [==============================] - 0s 6ms/step - loss: 0.0012 - mae: 0.0270 - val_loss: 7.0285e-04 - val_mae: 0.0221\n"
     ]
    }
   ],
   "source": [
    "def build_cnn_lstm_model(input_shape):\n",
    "    model = Sequential()\n",
    "    model.add(Conv1D(filters=64, kernel_size=3, activation='relu', input_shape=input_shape))\n",
    "    model.add(MaxPooling1D(pool_size=2))\n",
    "    model.add(LSTM(units=64, activation='tanh'))\n",
    "    model.add(Dropout(0.2))\n",
    "    model.add(Dense(1))\n",
    "    model.compile(optimizer='adam', loss='mse', metrics=['mae'])\n",
    "    return model\n",
    "\n",
    "input_shape = X_train.shape[1:]\n",
    "model = build_cnn_lstm_model(input_shape)\n",
    "\n",
    "early_stop = EarlyStopping(monitor='val_loss', patience=10, restore_best_weights=True)\n",
    "\n",
    "history = model.fit(\n",
    "    X_train, y_train,\n",
    "    validation_data=(X_test, y_test),\n",
    "    epochs=100,\n",
    "    batch_size=32,\n",
    "    callbacks=[early_stop],\n",
    "    verbose=1\n",
    ")"
   ]
  },
  {
   "cell_type": "code",
   "execution_count": 8,
   "id": "7037cfa0",
   "metadata": {},
   "outputs": [
    {
     "name": "stdout",
     "output_type": "stream",
     "text": [
      "9/9 [==============================] - 0s 2ms/step\n",
      "Test RMSE: 471.12\n",
      "Test MAE: 390.21\n"
     ]
    }
   ],
   "source": [
    "y_pred_scaled = model.predict(X_test)\n",
    "y_pred = y_scaler.inverse_transform(y_pred_scaled)\n",
    "y_true = y_scaler.inverse_transform(y_test.reshape(-1, 1))\n",
    "\n",
    "rmse = np.sqrt(mean_squared_error(y_true, y_pred))\n",
    "mae = mean_absolute_error(y_true, y_pred)\n",
    "\n",
    "print(f\"Test RMSE: {rmse:.2f}\")\n",
    "print(f\"Test MAE: {mae:.2f}\")"
   ]
  },
  {
   "cell_type": "code",
   "execution_count": 10,
   "id": "83cd0d6f",
   "metadata": {},
   "outputs": [
    {
     "name": "stdout",
     "output_type": "stream",
     "text": [
      "Exported predictions for Power BI.\n"
     ]
    }
   ],
   "source": [
    "# -----------------------------------------------\n",
    "# Step 7: Export for Power BI\n",
    "# -----------------------------------------------\n",
    "test_dates = df.index[-len(y_true):]\n",
    "\n",
    "results_df = pd.DataFrame({\n",
    "    'Date': test_dates,\n",
    "    'Actual_Close': y_true.flatten(),\n",
    "    'Predicted_Close': y_pred.flatten(),\n",
    "    'Market': 'India'\n",
    "})\n",
    "\n",
    "results_df.to_csv(\"cnn_lstm_predictions_india.csv\", index=False)\n",
    "print(\"Exported predictions for Power BI.\")\n"
   ]
  },
  {
   "cell_type": "code",
   "execution_count": null,
   "id": "6c35e80a",
   "metadata": {},
   "outputs": [],
   "source": []
  }
 ],
 "metadata": {
  "kernelspec": {
   "display_name": "datascience",
   "language": "python",
   "name": "python3"
  },
  "language_info": {
   "codemirror_mode": {
    "name": "ipython",
    "version": 3
   },
   "file_extension": ".py",
   "mimetype": "text/x-python",
   "name": "python",
   "nbconvert_exporter": "python",
   "pygments_lexer": "ipython3",
   "version": "3.8.15"
  }
 },
 "nbformat": 4,
 "nbformat_minor": 5
}
