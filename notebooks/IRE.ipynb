{
 "cells": [
  {
   "cell_type": "code",
   "execution_count": 1,
   "id": "3aaad8df",
   "metadata": {},
   "outputs": [],
   "source": [
    "import pandas as pd\n",
    "import pandas as pd\n",
    "import numpy as np\n",
    "from sklearn.preprocessing import MinMaxScaler\n",
    "import matplotlib.pyplot as plt\n",
    "import tensorflow as tf\n",
    "from tensorflow.keras.models import Sequential\n",
    "from tensorflow.keras.layers import Conv1D, MaxPooling1D, LSTM, Dropout, Dense\n",
    "from tensorflow.keras.callbacks import EarlyStopping\n",
    "from sklearn.metrics import mean_squared_error, mean_absolute_error"
   ]
  },
  {
   "cell_type": "code",
   "execution_count": null,
   "id": "0bb3bcf8",
   "metadata": {},
   "outputs": [],
   "source": [
    "# Load enriched data (already cleaned and feature engineered)\n",
    "df = pd.read_csv('/Users/rishabhsaudagar/Desktop/NCI CLG/SEMESTER 3/Thesis/Thesis_Dev/data/cleaned/Cleaned_IRELAND.csv', parse_dates=['Date'])\n",
    "df.set_index('Date', inplace=True)\n",
    "\n",
    "# Define feature columns\n",
    "features = ['Close', 'MA_5', 'MA_20', 'Vol_10', 'RSI_14', 'MACD', 'Signal']\n",
    "\n",
    "# Drop NaNs and prepare data\n",
    "df.dropna(inplace=True)\n",
    "X_raw = df[features].copy()\n",
    "y_raw = df['Target'].copy()"
   ]
  },
  {
   "cell_type": "code",
   "execution_count": 3,
   "id": "8c75763b",
   "metadata": {},
   "outputs": [],
   "source": [
    "X_scaler = MinMaxScaler()\n",
    "X_scaled = X_scaler.fit_transform(X_raw)\n",
    "\n",
    "y_scaler = MinMaxScaler()\n",
    "y_scaled = y_scaler.fit_transform(y_raw.values.reshape(-1, 1))"
   ]
  },
  {
   "cell_type": "code",
   "execution_count": 4,
   "id": "2f6dd910",
   "metadata": {},
   "outputs": [],
   "source": [
    "def create_windows(X, y, window_size=60):\n",
    "    Xs, ys = [], []\n",
    "    for i in range(len(X) - window_size):\n",
    "        Xs.append(X[i:i+window_size])\n",
    "        ys.append(y[i+window_size])\n",
    "    return np.array(Xs), np.array(ys)\n",
    "\n",
    "X_tensor, y_tensor = create_windows(X_scaled, y_scaled.flatten())"
   ]
  },
  {
   "cell_type": "code",
   "execution_count": 5,
   "id": "8cc5a69c",
   "metadata": {},
   "outputs": [],
   "source": [
    "def split_data(X, y, train_ratio=0.8):\n",
    "    split = int(len(X) * train_ratio)\n",
    "    return X[:split], X[split:], y[:split], y[split:]\n",
    "\n",
    "X_train, X_test, y_train, y_test = split_data(X_tensor, y_tensor)"
   ]
  },
  {
   "cell_type": "code",
   "execution_count": 6,
   "id": "e2cb2590",
   "metadata": {},
   "outputs": [
    {
     "name": "stdout",
     "output_type": "stream",
     "text": [
      "Epoch 1/100\n",
      "36/36 [==============================] - 2s 14ms/step - loss: 0.0321 - mae: 0.1281 - val_loss: 0.0170 - val_mae: 0.1190\n",
      "Epoch 2/100\n",
      "36/36 [==============================] - 0s 7ms/step - loss: 0.0052 - mae: 0.0568 - val_loss: 0.0047 - val_mae: 0.0535\n",
      "Epoch 3/100\n",
      "36/36 [==============================] - 0s 6ms/step - loss: 0.0037 - mae: 0.0479 - val_loss: 0.0020 - val_mae: 0.0320\n",
      "Epoch 4/100\n",
      "36/36 [==============================] - 0s 6ms/step - loss: 0.0030 - mae: 0.0432 - val_loss: 0.0018 - val_mae: 0.0305\n",
      "Epoch 5/100\n",
      "36/36 [==============================] - 0s 7ms/step - loss: 0.0025 - mae: 0.0396 - val_loss: 0.0036 - val_mae: 0.0494\n",
      "Epoch 6/100\n",
      "36/36 [==============================] - 0s 6ms/step - loss: 0.0026 - mae: 0.0402 - val_loss: 0.0012 - val_mae: 0.0271\n",
      "Epoch 7/100\n",
      "36/36 [==============================] - 0s 7ms/step - loss: 0.0025 - mae: 0.0388 - val_loss: 0.0011 - val_mae: 0.0258\n",
      "Epoch 8/100\n",
      "36/36 [==============================] - 0s 7ms/step - loss: 0.0023 - mae: 0.0377 - val_loss: 0.0014 - val_mae: 0.0280\n",
      "Epoch 9/100\n",
      "36/36 [==============================] - 0s 7ms/step - loss: 0.0024 - mae: 0.0382 - val_loss: 0.0016 - val_mae: 0.0313\n",
      "Epoch 10/100\n",
      "36/36 [==============================] - 0s 7ms/step - loss: 0.0021 - mae: 0.0359 - val_loss: 0.0018 - val_mae: 0.0338\n",
      "Epoch 11/100\n",
      "36/36 [==============================] - 0s 7ms/step - loss: 0.0020 - mae: 0.0349 - val_loss: 0.0012 - val_mae: 0.0262\n",
      "Epoch 12/100\n",
      "36/36 [==============================] - 0s 7ms/step - loss: 0.0021 - mae: 0.0361 - val_loss: 0.0015 - val_mae: 0.0301\n",
      "Epoch 13/100\n",
      "36/36 [==============================] - 0s 7ms/step - loss: 0.0018 - mae: 0.0329 - val_loss: 0.0024 - val_mae: 0.0416\n",
      "Epoch 14/100\n",
      "36/36 [==============================] - 0s 7ms/step - loss: 0.0019 - mae: 0.0338 - val_loss: 0.0013 - val_mae: 0.0264\n",
      "Epoch 15/100\n",
      "36/36 [==============================] - 0s 7ms/step - loss: 0.0019 - mae: 0.0345 - val_loss: 0.0019 - val_mae: 0.0352\n",
      "Epoch 16/100\n",
      "36/36 [==============================] - 0s 7ms/step - loss: 0.0020 - mae: 0.0347 - val_loss: 0.0013 - val_mae: 0.0266\n",
      "Epoch 17/100\n",
      "36/36 [==============================] - 0s 7ms/step - loss: 0.0020 - mae: 0.0347 - val_loss: 0.0024 - val_mae: 0.0419\n"
     ]
    }
   ],
   "source": [
    "def build_cnn_lstm_model(input_shape):\n",
    "    model = Sequential()\n",
    "    model.add(Conv1D(filters=64, kernel_size=3, activation='relu', input_shape=input_shape))\n",
    "    model.add(MaxPooling1D(pool_size=2))\n",
    "    model.add(LSTM(units=64, activation='tanh'))\n",
    "    model.add(Dropout(0.2))\n",
    "    model.add(Dense(1))\n",
    "    model.compile(optimizer='adam', loss='mse', metrics=['mae'])\n",
    "    return model\n",
    "\n",
    "input_shape = X_train.shape[1:]\n",
    "model = build_cnn_lstm_model(input_shape)\n",
    "\n",
    "early_stop = EarlyStopping(monitor='val_loss', patience=10, restore_best_weights=True)\n",
    "\n",
    "history = model.fit(\n",
    "    X_train, y_train,\n",
    "    validation_data=(X_test, y_test),\n",
    "    epochs=100,\n",
    "    batch_size=32,\n",
    "    callbacks=[early_stop],\n",
    "    verbose=1\n",
    ")"
   ]
  },
  {
   "cell_type": "code",
   "execution_count": 7,
   "id": "c74d68ed",
   "metadata": {},
   "outputs": [
    {
     "name": "stdout",
     "output_type": "stream",
     "text": [
      "9/9 [==============================] - 0s 2ms/step\n",
      "Test RMSE: 247.55\n",
      "Test MAE: 189.38\n"
     ]
    }
   ],
   "source": [
    "y_pred_scaled = model.predict(X_test)\n",
    "y_pred = y_scaler.inverse_transform(y_pred_scaled)\n",
    "y_true = y_scaler.inverse_transform(y_test.reshape(-1, 1))\n",
    "\n",
    "rmse = np.sqrt(mean_squared_error(y_true, y_pred))\n",
    "mae = mean_absolute_error(y_true, y_pred)\n",
    "\n",
    "print(f\"Test RMSE: {rmse:.2f}\")\n",
    "print(f\"Test MAE: {mae:.2f}\")"
   ]
  },
  {
   "cell_type": "code",
   "execution_count": 11,
   "id": "2067935f",
   "metadata": {},
   "outputs": [
    {
     "name": "stdout",
     "output_type": "stream",
     "text": [
      "Exported predictions for Power BI.\n"
     ]
    }
   ],
   "source": [
    "# -----------------------------------------------\n",
    "# Step 7: Export for Power BI\n",
    "# -----------------------------------------------\n",
    "test_dates = df.index[-len(y_true):]\n",
    "\n",
    "results_df = pd.DataFrame({\n",
    "    'Date': test_dates,\n",
    "    'Actual_Close': y_true.flatten(),\n",
    "    'Predicted_Close': y_pred.flatten(),\n",
    "    'Market': 'Ireland'\n",
    "})\n",
    "\n",
    "results_df.to_csv(\"cnn_lstm_predictions_ireland.csv\", index=False)\n",
    "print(\"Exported predictions for Power BI.\")\n"
   ]
  },
  {
   "cell_type": "code",
   "execution_count": null,
   "id": "1a38b2e5",
   "metadata": {},
   "outputs": [],
   "source": []
  },
  {
   "cell_type": "code",
   "execution_count": null,
   "id": "ce96bf35",
   "metadata": {},
   "outputs": [],
   "source": []
  },
  {
   "cell_type": "code",
   "execution_count": null,
   "id": "8e7e8638",
   "metadata": {},
   "outputs": [],
   "source": []
  },
  {
   "cell_type": "code",
   "execution_count": null,
   "id": "05ea2815",
   "metadata": {},
   "outputs": [],
   "source": []
  }
 ],
 "metadata": {
  "kernelspec": {
   "display_name": "datascience",
   "language": "python",
   "name": "python3"
  },
  "language_info": {
   "codemirror_mode": {
    "name": "ipython",
    "version": 3
   },
   "file_extension": ".py",
   "mimetype": "text/x-python",
   "name": "python",
   "nbconvert_exporter": "python",
   "pygments_lexer": "ipython3",
   "version": "3.8.15"
  }
 },
 "nbformat": 4,
 "nbformat_minor": 5
}
